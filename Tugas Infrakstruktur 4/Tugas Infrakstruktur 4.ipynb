{
  "nbformat": 4,
  "nbformat_minor": 0,
  "metadata": {
    "colab": {
      "provenance": []
    },
    "kernelspec": {
      "name": "python3",
      "display_name": "Python 3"
    },
    "language_info": {
      "name": "python"
    }
  },
  "cells": [
    {
      "cell_type": "code",
      "execution_count": 1,
      "metadata": {
        "id": "hpUdqABQjKCM"
      },
      "outputs": [],
      "source": [
        "# Load Library\n",
        "from sklearn.datasets import load_diabetes\n",
        "from sklearn.linear_model import LinearRegression, Lasso, Ridge\n",
        "from sklearn.model_selection import train_test_split\n",
        "from sklearn.metrics import mean_squared_error, r2_score"
      ]
    },
    {
      "cell_type": "markdown",
      "source": [
        "Sekumpulan fungsi yang dirancang untuk mempermudah dan mempercepat proses pengembangan tertentu disebut library atau pustaka. Library berisi koleksi fungsi, kelas, atau modul yang dapat digunakan kembali oleh pengembang untuk menyelesaikan tugas-tugas tertentu tanpa harus menulis kode dari awal. Ini membantu menghemat waktu dan usaha dalam pengembangan perangkat lunak."
      ],
      "metadata": {
        "id": "CitVU-3BjyMr"
      }
    },
    {
      "cell_type": "code",
      "source": [
        "load_diabetes()['target']"
      ],
      "metadata": {
        "colab": {
          "base_uri": "https://localhost:8080/"
        },
        "id": "mvHuy6GpjTBT",
        "outputId": "72102eaa-44a5-4c43-f779-cb408f3ab8cd"
      },
      "execution_count": 2,
      "outputs": [
        {
          "output_type": "execute_result",
          "data": {
            "text/plain": [
              "array([151.,  75., 141., 206., 135.,  97., 138.,  63., 110., 310., 101.,\n",
              "        69., 179., 185., 118., 171., 166., 144.,  97., 168.,  68.,  49.,\n",
              "        68., 245., 184., 202., 137.,  85., 131., 283., 129.,  59., 341.,\n",
              "        87.,  65., 102., 265., 276., 252.,  90., 100.,  55.,  61.,  92.,\n",
              "       259.,  53., 190., 142.,  75., 142., 155., 225.,  59., 104., 182.,\n",
              "       128.,  52.,  37., 170., 170.,  61., 144.,  52., 128.,  71., 163.,\n",
              "       150.,  97., 160., 178.,  48., 270., 202., 111.,  85.,  42., 170.,\n",
              "       200., 252., 113., 143.,  51.,  52., 210.,  65., 141.,  55., 134.,\n",
              "        42., 111.,  98., 164.,  48.,  96.,  90., 162., 150., 279.,  92.,\n",
              "        83., 128., 102., 302., 198.,  95.,  53., 134., 144., 232.,  81.,\n",
              "       104.,  59., 246., 297., 258., 229., 275., 281., 179., 200., 200.,\n",
              "       173., 180.,  84., 121., 161.,  99., 109., 115., 268., 274., 158.,\n",
              "       107.,  83., 103., 272.,  85., 280., 336., 281., 118., 317., 235.,\n",
              "        60., 174., 259., 178., 128.,  96., 126., 288.,  88., 292.,  71.,\n",
              "       197., 186.,  25.,  84.,  96., 195.,  53., 217., 172., 131., 214.,\n",
              "        59.,  70., 220., 268., 152.,  47.,  74., 295., 101., 151., 127.,\n",
              "       237., 225.,  81., 151., 107.,  64., 138., 185., 265., 101., 137.,\n",
              "       143., 141.,  79., 292., 178.,  91., 116.,  86., 122.,  72., 129.,\n",
              "       142.,  90., 158.,  39., 196., 222., 277.,  99., 196., 202., 155.,\n",
              "        77., 191.,  70.,  73.,  49.,  65., 263., 248., 296., 214., 185.,\n",
              "        78.,  93., 252., 150.,  77., 208.,  77., 108., 160.,  53., 220.,\n",
              "       154., 259.,  90., 246., 124.,  67.,  72., 257., 262., 275., 177.,\n",
              "        71.,  47., 187., 125.,  78.,  51., 258., 215., 303., 243.,  91.,\n",
              "       150., 310., 153., 346.,  63.,  89.,  50.,  39., 103., 308., 116.,\n",
              "       145.,  74.,  45., 115., 264.,  87., 202., 127., 182., 241.,  66.,\n",
              "        94., 283.,  64., 102., 200., 265.,  94., 230., 181., 156., 233.,\n",
              "        60., 219.,  80.,  68., 332., 248.,  84., 200.,  55.,  85.,  89.,\n",
              "        31., 129.,  83., 275.,  65., 198., 236., 253., 124.,  44., 172.,\n",
              "       114., 142., 109., 180., 144., 163., 147.,  97., 220., 190., 109.,\n",
              "       191., 122., 230., 242., 248., 249., 192., 131., 237.,  78., 135.,\n",
              "       244., 199., 270., 164.,  72.,  96., 306.,  91., 214.,  95., 216.,\n",
              "       263., 178., 113., 200., 139., 139.,  88., 148.,  88., 243.,  71.,\n",
              "        77., 109., 272.,  60.,  54., 221.,  90., 311., 281., 182., 321.,\n",
              "        58., 262., 206., 233., 242., 123., 167.,  63., 197.,  71., 168.,\n",
              "       140., 217., 121., 235., 245.,  40.,  52., 104., 132.,  88.,  69.,\n",
              "       219.,  72., 201., 110.,  51., 277.,  63., 118.,  69., 273., 258.,\n",
              "        43., 198., 242., 232., 175.,  93., 168., 275., 293., 281.,  72.,\n",
              "       140., 189., 181., 209., 136., 261., 113., 131., 174., 257.,  55.,\n",
              "        84.,  42., 146., 212., 233.,  91., 111., 152., 120.,  67., 310.,\n",
              "        94., 183.,  66., 173.,  72.,  49.,  64.,  48., 178., 104., 132.,\n",
              "       220.,  57.])"
            ]
          },
          "metadata": {},
          "execution_count": 2
        }
      ]
    },
    {
      "cell_type": "markdown",
      "source": [
        "\"load_diabetes()['target']\" adalah:\n",
        "\n",
        "Fungsi load_diabetes() dari pustaka sklearn.datasets digunakan untuk memuat dataset diabetes, dan ['target'] mengacu pada kolom yang berisi nilai yang ingin diprediksi dalam dataset tersebut. Dalam konteks dataset diabetes, kolom target berisi nilai variabel dependen, yaitu tingkat progression of diabetes dalam satu tahun, yang diukur dengan suatu skala tertentu.\n",
        "\n",
        "Jadi, pada dasarnya, kolom target dalam dataset diabetes menyimpan data yang ingin diprediksi atau dipelajari oleh model, seperti perubahan atau perkembangan penyakit diabetes dalam periode waktu tertentu (dalam hal ini, satu tahun)."
      ],
      "metadata": {
        "id": "gjSgtPuwkN8r"
      }
    },
    {
      "cell_type": "code",
      "source": [
        "x, y = load_diabetes(return_X_y=True)"
      ],
      "metadata": {
        "id": "aWIcTc7yjVrM"
      },
      "execution_count": 3,
      "outputs": []
    },
    {
      "cell_type": "markdown",
      "source": [
        "Interpretasi yang benar untuk pernyataan \"x, y = load_diabetes(return_X_y=True)\" adalah:\n",
        "\n",
        "Fungsi load_diabetes(return_X_y=True) dari pustaka sklearn.datasets digunakan untuk memuat dataset diabetes dan mengembalikan dua variabel:\n",
        "\n",
        "x: Berisi fitur (features) atau variabel independen dalam dataset, yang merupakan data yang digunakan untuk memprediksi target. Dalam hal ini, fitur-fitur ini mencakup informasi seperti usia, indeks massa tubuh (BMI), kadar gula darah, dan sebagainya.\n",
        "\n",
        "y: Berisi target, yaitu variabel dependen yang ingin diprediksi, yang dalam dataset diabetes ini adalah tingkat progression of diabetes dalam satu tahun."
      ],
      "metadata": {
        "id": "lak2-JwGkVSc"
      }
    },
    {
      "cell_type": "code",
      "source": [
        "lr = LinearRegression()"
      ],
      "metadata": {
        "id": "X9_gHXyzjYX8"
      },
      "execution_count": 4,
      "outputs": []
    },
    {
      "cell_type": "markdown",
      "source": [
        "\"lr = LinearRegression()\" adalah:\n",
        "\n",
        "Kode ini digunakan untuk membuat sebuah model regresi linear menggunakan kelas LinearRegression dari pustaka sklearn.linear_model. Setelah itu, model regresi linear tersebut disimpan dalam variabel lr.\n",
        "\n",
        "Model ini akan digunakan untuk memodelkan hubungan antara fitur (independen) dan target (dependen), di mana model regresi linear bertujuan untuk memprediksi nilai target berdasarkan nilai fitur dengan cara mencari garis lurus terbaik yang meminimalkan kesalahan prediksi (misalnya, dengan menggunakan metode least squares). Variabel lr kemudian dapat digunakan untuk melatih (fit) model pada data dan membuat prediksi.\n",
        "\n",
        "\n",
        "\n",
        "\n",
        "\n",
        "\n"
      ],
      "metadata": {
        "id": "e8-OyuK2keED"
      }
    },
    {
      "cell_type": "code",
      "source": [
        "len(load_diabetes()['feature_names'])"
      ],
      "metadata": {
        "colab": {
          "base_uri": "https://localhost:8080/"
        },
        "id": "RCHY8PA8jddD",
        "outputId": "a018d6bb-e302-48e8-d915-f0f3226d4ede"
      },
      "execution_count": 6,
      "outputs": [
        {
          "output_type": "execute_result",
          "data": {
            "text/plain": [
              "10"
            ]
          },
          "metadata": {},
          "execution_count": 6
        }
      ]
    },
    {
      "cell_type": "markdown",
      "source": [
        "\"len(load_diabetes().feature_names)\"\n",
        "digunakan untuk menghitung total elemen dalam dataset diabetes, serta mengembalikan nama-nama fitur yang terdapat dalam kolom dataset tersebut."
      ],
      "metadata": {
        "id": "zzF2FjJpnQJ4"
      }
    },
    {
      "cell_type": "code",
      "source": [
        "lr.fit(x, y)\n",
        "y_pred = lr.predict(x)"
      ],
      "metadata": {
        "id": "tuN69OwOjhMk"
      },
      "execution_count": 7,
      "outputs": []
    },
    {
      "cell_type": "markdown",
      "source": [
        "\"lr.fit(x, y)\n",
        "y_pred = lr.predict(x)\"\n",
        "fungsi fit digunakan untuk melatih model menggunakan data fitur x dan target y, sementara fungsi predict digunakan untuk menghasilkan prediksi nilai target berdasarkan fitur yang ada, dan hasil prediksi tersebut akan disimpan dalam variabel \"y_pred\"."
      ],
      "metadata": {
        "id": "1g6XKEzbnX_I"
      }
    },
    {
      "cell_type": "code",
      "source": [
        "print(r2_score(y, y_pred))"
      ],
      "metadata": {
        "colab": {
          "base_uri": "https://localhost:8080/"
        },
        "id": "k5H1dEQ-jiwj",
        "outputId": "1ed7a7dc-fea9-467b-9379-a4472fde6ba6"
      },
      "execution_count": 8,
      "outputs": [
        {
          "output_type": "stream",
          "name": "stdout",
          "text": [
            "0.5177484222203499\n"
          ]
        }
      ]
    },
    {
      "cell_type": "markdown",
      "source": [
        "\"print(r2_score(y, y_pred))\"\n",
        "digunakan untuk mencetak hasil perhitungan nilai R^2 antara nilai aktual y dan nilai prediksi y_pred."
      ],
      "metadata": {
        "id": "i7Uf0_-LnfSX"
      }
    },
    {
      "cell_type": "code",
      "source": [
        "print(mean_squared_error(y, y_pred))"
      ],
      "metadata": {
        "colab": {
          "base_uri": "https://localhost:8080/"
        },
        "id": "q6-WSBVOjk7K",
        "outputId": "5dac5506-1027-4d70-a7e2-bab9ce287088"
      },
      "execution_count": 9,
      "outputs": [
        {
          "output_type": "stream",
          "name": "stdout",
          "text": [
            "2859.69634758675\n"
          ]
        }
      ]
    },
    {
      "cell_type": "markdown",
      "source": [
        "\"print(mean_squared_error(y, y_pred))\"\n",
        "Penjelasan: digunakan untuk mencetak hasil perhitungan nilai Mean Squared Error (MSE) antara nilai aktual y dan nilai prediksi y_pred."
      ],
      "metadata": {
        "id": "YOO2onA-npQI"
      }
    },
    {
      "cell_type": "code",
      "source": [
        "# Hold Out\n",
        "# train -> validation -> test\n",
        "\n",
        "from sklearn.model_selection import train_test_split\n",
        "x_train, x_test, y_train, y_test = train_test_split(x, y, test_size=0.2, random_state=42)\n",
        "\n",
        "\n",
        "lr = LinearRegression()\n",
        "lr.fit(x_train, y_train)\n",
        "y_pred = lr.predict(x_test)\n",
        "print(r2_score(y_test, y_pred))\n",
        "print(mean_squared_error(y_test, y_pred))\n",
        ""
      ],
      "metadata": {
        "colab": {
          "base_uri": "https://localhost:8080/"
        },
        "id": "XevCu-GAjoM7",
        "outputId": "3b6896a3-44d5-4315-c3cf-7407f6db2ca1"
      },
      "execution_count": 10,
      "outputs": [
        {
          "output_type": "stream",
          "name": "stdout",
          "text": [
            "0.4526027629719195\n",
            "2900.193628493482\n"
          ]
        }
      ]
    },
    {
      "cell_type": "code",
      "source": [
        "load_diabetes()['target']\n",
        "x, y = load_diabetes(return_X_y=True)\n",
        "lr = LinearRegression()\n",
        "len(load_diabetes().feature_names)\n",
        "lr.fit(x, y)\n",
        "y_pred = lr.predict(x)\n",
        "print(r2_score(y, y_pred))\n",
        "print(mean_squared_error(y, y_pred))\n",
        ""
      ],
      "metadata": {
        "colab": {
          "base_uri": "https://localhost:8080/"
        },
        "id": "pyAMc38ojpsz",
        "outputId": "101e1ef3-0282-4706-d6a4-d463a1a32a24"
      },
      "execution_count": 11,
      "outputs": [
        {
          "output_type": "stream",
          "name": "stdout",
          "text": [
            "0.5177484222203499\n",
            "2859.69634758675\n"
          ]
        }
      ]
    },
    {
      "cell_type": "markdown",
      "source": [
        "Output:\n",
        "\n",
        "R²_score = 0.5177484222203499\n",
        "Mean_squared_error = 2859.69634758675\n",
        "Interpretasi:\n",
        "\n",
        "Nilai R² sebesar 51% menunjukkan bahwa variabel target dapat dijelaskan oleh variabel fitur, yang berarti model regresi ini mampu menjelaskan sedikit lebih dari setengah variasi dalam data tersebut.\n",
        "Nilai MSE sebesar 2859.7 menunjukkan bahwa model memiliki kesalahan prediksi rata-rata yang cukup besar. Semakin tinggi nilai MSE, semakin besar kesalahan model. Oleh karena itu, untuk meningkatkan model, bisa dilakukan langkah-langkah seperti menambah jumlah fitur, mencoba model yang berbeda, atau melakukan teknik perbaikan lainnya.\n",
        "\n",
        "\n",
        "\n",
        "\n",
        "\n",
        "\n"
      ],
      "metadata": {
        "id": "qYXEbi3HowIH"
      }
    }
  ]
}